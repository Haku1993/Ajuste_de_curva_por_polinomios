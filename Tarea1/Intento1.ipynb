{
 "cells": [
  {
   "cell_type": "code",
   "execution_count": null,
   "metadata": {},
   "outputs": [],
   "source": [
    "def rsse(wl) :  #para el caso general si se busca minimizar los w's y  los lamnda esta es la funcion\n",
    "    si=0\n",
    "    n=len(wl)-1\n",
    "    w=wl[:n]\n",
    "    l=wl[n]\n",
    "    for i in range(10):\n",
    "        x=x1[i]\n",
    "        t=ys[i]\n",
    "        xi=np.zeros(len(w))\n",
    "        for j in range(len(w)):\n",
    "            xi[j]=pow(x,j)\n",
    "        si= 1/2*pow(np.dot(xi,w)-t,2)+ si\n",
    "    ew= si + l/2*np.dot(w,w)    \n",
    "    return ew  \n"
   ]
  },
  {
   "cell_type": "code",
   "execution_count": null,
   "metadata": {},
   "outputs": [],
   "source": [
    "# optimizacion regularizacion\n",
    "\n",
    "Wr=[]\n",
    "\n",
    "for i in range(10):\n",
    "    x0= np.zeros(i+)\n",
    "    res1 = minimize(rse, x0, method='CG',\n",
    "               options={'xtol': 1e-8, 'disp': False})\n",
    "    Wr.append(res1.x) \n",
    "    \n",
    "    \n",
    "    "
   ]
  },
  {
   "cell_type": "code",
   "execution_count": null,
   "metadata": {},
   "outputs": [],
   "source": [
    "df1=pd.DataFrame(Wr)\n",
    "df1"
   ]
  }
 ],
 "metadata": {
  "kernelspec": {
   "display_name": "Python 3",
   "language": "python",
   "name": "python3"
  },
  "language_info": {
   "codemirror_mode": {
    "name": "ipython",
    "version": 3
   },
   "file_extension": ".py",
   "mimetype": "text/x-python",
   "name": "python",
   "nbconvert_exporter": "python",
   "pygments_lexer": "ipython3",
   "version": "3.7.3"
  }
 },
 "nbformat": 4,
 "nbformat_minor": 2
}
